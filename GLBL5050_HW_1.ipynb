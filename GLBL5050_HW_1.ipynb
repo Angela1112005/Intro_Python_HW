{
 "cells": [
  {
   "cell_type": "markdown",
   "metadata": {},
   "source": [
    "## Homework 1 - Angela Chen (Sep. 5, 2024)"
   ]
  },
  {
   "cell_type": "code",
   "execution_count": null,
   "metadata": {},
   "outputs": [],
   "source": [
    "1. What is a markdown cell in jupyter notebook and how do I change a cell from a markdown cell to a code cell? Use a markdown cell type for this answer."
   ]
  },
  {
   "cell_type": "markdown",
   "metadata": {},
   "source": [
    "Answer: a markdown cell in jupyter notebook is a formatting option. To change a cell from a markdown cell to a code cell, locate the drop down list on the tool bar and select your prefered option. "
   ]
  },
  {
   "cell_type": "code",
   "execution_count": null,
   "metadata": {},
   "outputs": [],
   "source": [
    "2. In Python, what is the difference between =(single equal) and == (double equal)? Please give an example of each."
   ]
  },
  {
   "cell_type": "markdown",
   "metadata": {},
   "source": [
    "Answer: the single equal sign assigns value while the double equal allows equality comparison. \n",
    "Example: x=\"hello\" x == 5"
   ]
  },
  {
   "cell_type": "code",
   "execution_count": null,
   "metadata": {},
   "outputs": [],
   "source": [
    "3. If I am commenting on my code in a cell, what are the two ways to do this in Python?"
   ]
  },
  {
   "cell_type": "code",
   "execution_count": null,
   "metadata": {},
   "outputs": [],
   "source": [
    "#the first way to comment in Python is to use the hashtag\n",
    "'''the second way to comment is to use triple quotation marks'''"
   ]
  },
  {
   "cell_type": "code",
   "execution_count": null,
   "metadata": {},
   "outputs": [],
   "source": [
    "4. Assign your name, your Yale program, and your year of graduation equal to variables of your choosing. Then write a print statement using an \"f string\" that says \"Hello, my name is (name). I am in Yale's (program) and I hope to graduate in (year).\""
   ]
  },
  {
   "cell_type": "code",
   "execution_count": 170,
   "metadata": {},
   "outputs": [
    {
     "name": "stdout",
     "output_type": "stream",
     "text": [
      "Hello, my name is Angela. I am in Yale's undergraduate program and I hope to graduate in 2026.\n"
     ]
    }
   ],
   "source": [
    "name = \"Angela\"\n",
    "program = \"undergraduate program\"\n",
    "graduation_year = 2026\n",
    "\n",
    "print(f\"Hello, my name is {name}. I am in Yale's {program} and I hope to graduate in {graduation_year}.\")"
   ]
  },
  {
   "cell_type": "code",
   "execution_count": 172,
   "metadata": {},
   "outputs": [
    {
     "ename": "SyntaxError",
     "evalue": "invalid syntax (3752266193.py, line 1)",
     "output_type": "error",
     "traceback": [
      "\u001b[0;36m  Cell \u001b[0;32mIn[172], line 1\u001b[0;36m\u001b[0m\n\u001b[0;31m    5. Write the mathematical operators for the following using a markdown cell type and give a code example of each:\u001b[0m\n\u001b[0m       ^\u001b[0m\n\u001b[0;31mSyntaxError\u001b[0m\u001b[0;31m:\u001b[0m invalid syntax\n"
     ]
    }
   ],
   "source": [
    "5. Write the mathematical operators for the following using a markdown cell type and give a code example of each:\n",
    "\n",
    "For example: plus: + , 3 + 4\n",
    "\n",
    "minus: 5 - 2\n",
    "\n",
    "multiply: 5*2\n",
    "\n",
    "divide: 5/2\n",
    "\n",
    "find the remainder of two numbers divided: 5%2\n",
    "\n",
    "square: (as in 3 squared is 9) 5**2\n",
    "\n",
    "cube: (as in 2 cubed is 8) 4**3\n",
    "\n",
    "greater than: 8>4\n",
    "\n",
    "greater than or equal to: 6>=3\n",
    "\n",
    "less than: 2<5\n",
    "\n",
    "less than or equal to: 2<=5"
   ]
  },
  {
   "cell_type": "code",
   "execution_count": null,
   "metadata": {},
   "outputs": [],
   "source": [
    "6. What is the built-in Python function to determine the type of an object? Give four examples of using this function on four different object types."
   ]
  },
  {
   "cell_type": "code",
   "execution_count": 174,
   "metadata": {},
   "outputs": [
    {
     "name": "stdout",
     "output_type": "stream",
     "text": [
      "<class 'int'>\n",
      "<class 'str'>\n",
      "<class 'float'>\n",
      "<class 'bool'>\n"
     ]
    }
   ],
   "source": [
    "#print(type(x))\n",
    "\n",
    "x=10\n",
    "print(type(x))\n",
    "y = \"hello\" \n",
    "print(type(y))\n",
    "z=1.23\n",
    "print(type(z))\n",
    "print(type(True))\n"
   ]
  },
  {
   "cell_type": "code",
   "execution_count": 176,
   "metadata": {},
   "outputs": [
    {
     "ename": "SyntaxError",
     "evalue": "invalid syntax (3736559136.py, line 1)",
     "output_type": "error",
     "traceback": [
      "\u001b[0;36m  Cell \u001b[0;32mIn[176], line 1\u001b[0;36m\u001b[0m\n\u001b[0;31m    7. Use the \"replace\" method in python so that the following occurs:\u001b[0m\n\u001b[0m       ^\u001b[0m\n\u001b[0;31mSyntaxError\u001b[0m\u001b[0;31m:\u001b[0m invalid syntax\n"
     ]
    }
   ],
   "source": [
    "7. Use the \"replace\" method in python so that the following occurs:\n",
    "\n",
    "greeting = \"Hello there students!\"\n",
    "becomes\n",
    "print(greeting)\n",
    "output: \"Hello there Pythonistas!\""
   ]
  },
  {
   "cell_type": "code",
   "execution_count": 178,
   "metadata": {},
   "outputs": [
    {
     "name": "stdout",
     "output_type": "stream",
     "text": [
      "Hello there Pythonistas!\n"
     ]
    }
   ],
   "source": [
    "#your code here: \n",
    "\n",
    "greeting = \"Hello there students!\"\n",
    "new_greeting = greeting.replace(\"students\", \"Pythonistas\")\n",
    "print(new_greeting)"
   ]
  },
  {
   "cell_type": "code",
   "execution_count": null,
   "metadata": {},
   "outputs": [],
   "source": [
    "8.In the following code:\n",
    "agreement = \"Paris Agreement\" \n",
    "agreement.replace(\"Paris\", \"Moon\") \n",
    "print(agreement)\n",
    "\n",
    "The output is \"Paris Agreement\", not \"Moon Agreement\"\n",
    "\n",
    "Please explain why that is the case. \n"
   ]
  },
  {
   "cell_type": "markdown",
   "metadata": {},
   "source": [
    "Answer: the output remained the same because the code asked for the variable \"agreement\", which was not changed with the replace function, to be printed. In order to have \"Moon Agreement\" printed, you would need to assign the replacement to a variable (it could still be named 'agreement') and then print out that variable. "
   ]
  },
  {
   "cell_type": "code",
   "execution_count": 180,
   "metadata": {},
   "outputs": [
    {
     "ename": "SyntaxError",
     "evalue": "invalid syntax (2784808448.py, line 1)",
     "output_type": "error",
     "traceback": [
      "\u001b[0;36m  Cell \u001b[0;32mIn[180], line 1\u001b[0;36m\u001b[0m\n\u001b[0;31m    9. Now fix the code using the replace method so that:\u001b[0m\n\u001b[0m       ^\u001b[0m\n\u001b[0;31mSyntaxError\u001b[0m\u001b[0;31m:\u001b[0m invalid syntax\n"
     ]
    }
   ],
   "source": [
    "9. Now fix the code using the replace method so that:\n",
    "   agreement = \"Paris Agreement\"\n",
    "   when you write:\n",
    "   print(agreement)\n",
    "   output is \"Moon Agreement\""
   ]
  },
  {
   "cell_type": "code",
   "execution_count": 182,
   "metadata": {},
   "outputs": [
    {
     "name": "stdout",
     "output_type": "stream",
     "text": [
      "Moon Agreement\n"
     ]
    }
   ],
   "source": [
    "agreement = \"Paris Agreement\" \n",
    "agreement = agreement.replace(\"Paris\",\"Moon\")\n",
    "print(agreement)"
   ]
  },
  {
   "cell_type": "code",
   "execution_count": 184,
   "metadata": {},
   "outputs": [
    {
     "data": {
      "text/plain": [
       "False"
      ]
     },
     "execution_count": 184,
     "metadata": {},
     "output_type": "execute_result"
    }
   ],
   "source": [
    "#10. Please explain why the statement returns \"False\" and write code that fixes the error:\n",
    "\n",
    ".3 + .3 + .3 == .9"
   ]
  },
  {
   "cell_type": "markdown",
   "metadata": {},
   "source": [
    "Answer: the statement (0.3 + 0.3 + 0.3 == 0.9) returns \"false\" because of computer languages including Python have trouble representing decimal numbers like 0.3 so that when 0.3 is added three times, the result comes out to 0.899999.. instead. "
   ]
  },
  {
   "cell_type": "code",
   "execution_count": 186,
   "metadata": {},
   "outputs": [
    {
     "name": "stdout",
     "output_type": "stream",
     "text": [
      "True\n"
     ]
    }
   ],
   "source": [
    "## to fix this error, you can round before making the comparison: \n",
    "\n",
    "print(round(0.3 + 0.3 + 0.3, 1) == 0.9)"
   ]
  },
  {
   "cell_type": "markdown",
   "metadata": {},
   "source": [
    "11. I want to make a tip calculator. Step one:\n",
    "Please use the input method to accept an input from a user prompting them with \"Please enter a price of the meal\" and save\n",
    " it to the variable \"price\""
   ]
  },
  {
   "cell_type": "code",
   "execution_count": 188,
   "metadata": {},
   "outputs": [
    {
     "name": "stdin",
     "output_type": "stream",
     "text": [
      "Please enter a price of the meal 70\n"
     ]
    }
   ],
   "source": [
    "#Your code here:\n",
    "price = int(input(\"Please enter a price of the meal\"))"
   ]
  },
  {
   "cell_type": "code",
   "execution_count": 190,
   "metadata": {},
   "outputs": [
    {
     "ename": "SyntaxError",
     "evalue": "invalid syntax (708616450.py, line 1)",
     "output_type": "error",
     "traceback": [
      "\u001b[0;36m  Cell \u001b[0;32mIn[190], line 1\u001b[0;36m\u001b[0m\n\u001b[0;31m    12. Here is a script I wrote for a tip calculator:\u001b[0m\n\u001b[0m        ^\u001b[0m\n\u001b[0;31mSyntaxError\u001b[0m\u001b[0;31m:\u001b[0m invalid syntax\n"
     ]
    }
   ],
   "source": [
    "12. Here is a script I wrote for a tip calculator:\n",
    "                        \n",
    "price = input(\"Please enter the price of the meal: \" )\n",
    "\n",
    "tip = price * 0.22\n",
    "\n",
    "total = price + tip\n",
    "\n",
    "print(\"A 16% tip would be: \", tip)\n",
    "\n",
    "print(\"The total including tip would be: \", total)\n",
    "\n",
    "The problem is it throws an error! Can you look at this code and see why it is throwing an error without running it? "
   ]
  },
  {
   "cell_type": "markdown",
   "metadata": {},
   "source": [
    "Answer: The code is throwing an error without running it because the code does not know the variable type of the inputted value. You must assign the input code to be a float variable. "
   ]
  },
  {
   "cell_type": "markdown",
   "metadata": {},
   "source": [
    "13. Please fix the above code and run it:"
   ]
  },
  {
   "cell_type": "code",
   "execution_count": 210,
   "metadata": {},
   "outputs": [
    {
     "name": "stdin",
     "output_type": "stream",
     "text": [
      "Please enter the price of the meal:  8239.99\n"
     ]
    },
    {
     "name": "stdout",
     "output_type": "stream",
     "text": [
      "A 16% tip would be:  1812.8\n",
      "The total including tip would be:  10052.79\n"
     ]
    }
   ],
   "source": [
    "#Your code here:\n",
    "\n",
    "price =  float(input(\"Please enter the price of the meal: \" ))\n",
    "\n",
    "tip = round(price * 0.22, 2)\n",
    "\n",
    "total = round(price + tip, 2)\n",
    "\n",
    "print(\"A 16% tip would be: \", tip)\n",
    "\n",
    "print(\"The total including tip would be: \", total)"
   ]
  },
  {
   "cell_type": "markdown",
   "metadata": {},
   "source": [
    "14. Write a script that takes a user inputted string and checks whether if they are the following\n",
    "\n",
    "if it is all alphabets\n",
    "if it is numeric\n",
    "if it is all upper case\n",
    "if it is all lower case"
   ]
  },
  {
   "cell_type": "code",
   "execution_count": 216,
   "metadata": {},
   "outputs": [
    {
     "name": "stdin",
     "output_type": "stream",
     "text": [
      "Please enter a string:  HAPPY\n"
     ]
    },
    {
     "name": "stdout",
     "output_type": "stream",
     "text": [
      "This input is in upper case letters\n"
     ]
    }
   ],
   "source": [
    "#Your code here:\n",
    "\n",
    "script = str(input(\"Please enter a string: \"))\n",
    "\n",
    "if script.isalpha():\n",
    "    if script.islower():\n",
    "        print(\"This input is in lower case letters\") \n",
    "    elif script.isupper():\n",
    "        print(\"This input is in upper case letters\")\n",
    "    else:\n",
    "        print(\"This input is in both upper and lower case letters\")    \n",
    "\n",
    "elif script.isnumeric():\n",
    "    print(\"This input is all numbers\")\n",
    "\n",
    "else:\n",
    "    print(\"This input is not all alphabets, all numbers, all upper case, nor all lower case\")\n"
   ]
  },
  {
   "cell_type": "markdown",
   "metadata": {},
   "source": [
    "15. Write a script that takes a user inputted target_string of your choosing and prints it out in the following three formats.\n",
    "\n",
    "All letters capitalized - capitalize( )\n",
    "All letters lowercase - lower( )\n",
    "All vowels lowercase and all consonants uppercase "
   ]
  },
  {
   "cell_type": "code",
   "execution_count": null,
   "metadata": {},
   "outputs": [],
   "source": [
    "#Your code here:\n",
    "\n",
    "target_string = input(\"Please enter a string: \")\n",
    "\n",
    "print(\"First letters capitalized: \", target_string.capitalize())\n",
    "\n",
    "print(\"All letters capitalized: \", target_string.upper())\n",
    "\n",
    "print(\"All letters lowercase: \", target_string.lower())\n",
    "\n",
    "## NEED TO DO VOWEL AND CONSONANT PART \n",
    "\n",
    "vowels = \"aeiouAEIOU\"\n",
    "\n",
    "modified_characters = []\n",
    "\n",
    "# Loop through each character in the input string\n",
    "for char in target_string:\n",
    "    if char in vowels:  # If the character is a vowel\n",
    "        modified_characters.append(char.lower())  # Make it lowercase\n",
    "    else:  # If the character is not a vowel (consonant or other)\n",
    "        modified_characters.append(char.upper())  # Make it uppercase\n",
    "\n",
    "\n",
    "joined_string = ''.join(modified_characters)\n",
    "\n",
    "\n",
    "print(joined_string)"
   ]
  },
  {
   "cell_type": "markdown",
   "metadata": {},
   "source": [
    "16. Assuming a package is not part of the Anaconda build of Python used, how would I:\n",
    "a. install a package from my terminal?\n",
    "b. install a package from my Jupyter notebook ?\n",
    "c. import a package ? \n",
    "d. what happens when if I write \"import this\" but don't name a package? (run it below)"
   ]
  },
  {
   "cell_type": "code",
   "execution_count": null,
   "metadata": {},
   "outputs": [],
   "source": [
    "#Your code here:\n",
    "#a.\n",
    "#b.\n",
    "#c. \n",
    "#d.\n",
    "import this"
   ]
  },
  {
   "cell_type": "code",
   "execution_count": 5,
   "metadata": {},
   "outputs": [
    {
     "ename": "SyntaxError",
     "evalue": "invalid decimal literal (985703228.py, line 1)",
     "output_type": "error",
     "traceback": [
      "\u001b[0;36m  Cell \u001b[0;32mIn[5], line 1\u001b[0;36m\u001b[0m\n\u001b[0;31m    13.statement= 'It's truly one of my favorite quotes: \"Success depends on intuition, on seeing what afterwards proves to be true but cannot be established at the moment\"\u001b[0m\n\u001b[0m      ^\u001b[0m\n\u001b[0;31mSyntaxError\u001b[0m\u001b[0;31m:\u001b[0m invalid decimal literal\n"
     ]
    }
   ],
   "source": [
    "17.statement= 'It's truly one of my favorite quotes: \"Success depends on intuition, on seeing what afterwards proves to be true but cannot be established at the moment\"\n",
    "#To whom is the previous quote atributed?"
   ]
  },
  {
   "cell_type": "markdown",
   "metadata": {},
   "source": [
    "Your answer here: see next question. "
   ]
  },
  {
   "cell_type": "code",
   "execution_count": null,
   "metadata": {},
   "outputs": [],
   "source": [
    "18. Copy the code above to the cell below. Run it. Why is it throwing an error? Please fix it."
   ]
  },
  {
   "cell_type": "code",
   "execution_count": 222,
   "metadata": {},
   "outputs": [
    {
     "name": "stdout",
     "output_type": "stream",
     "text": [
      "It's truly one of my favorite quotes: 'Success depends on institution, on seeing what afterwards proves to be true cannot be established at the moment'\n"
     ]
    }
   ],
   "source": [
    "#Your answer here: The code is not working due to formatting errors. When coding, you must ensure that open quotation marks are met with closing quotation marks. \n",
    "#Your code here:\n",
    "\n",
    "statement = \"It's truly one of my favorite quotes: 'Success depends on institution, on seeing what afterwards proves to be true cannot be established at the moment'\"\n",
    "print(statement)"
   ]
  },
  {
   "cell_type": "markdown",
   "metadata": {},
   "source": [
    "19. Write code, using the strip() method  to remove the white spaces from the beginning and the end of the following and print below:\n",
    "\n"
   ]
  },
  {
   "cell_type": "code",
   "execution_count": 224,
   "metadata": {},
   "outputs": [
    {
     "name": "stdout",
     "output_type": "stream",
     "text": [
      "   Hi students. What's going on?!       \n",
      "Hi students. What's going on?!\n"
     ]
    }
   ],
   "source": [
    "greeting = \"   Hi students. What's going on?!       \"\n",
    "print(greeting)\n",
    "# You answer here: \n",
    "stripped_greeting = greeting.strip()\n",
    "print(stripped_greeting)"
   ]
  },
  {
   "cell_type": "code",
   "execution_count": null,
   "metadata": {},
   "outputs": [],
   "source": [
    "20. (2pt) How do you convert a string to all lowercase? Give an example."
   ]
  },
  {
   "cell_type": "code",
   "execution_count": 226,
   "metadata": {},
   "outputs": [
    {
     "name": "stdout",
     "output_type": "stream",
     "text": [
      "To Kill A Mockingbird\n",
      "to kill a mockingbird\n"
     ]
    }
   ],
   "source": [
    "# Your answer here: \n",
    "title = \"To Kill A Mockingbird\"\n",
    "print(title)\n",
    "\n",
    "lower_title = title.lower()\n",
    "print(lower_title)\n"
   ]
  },
  {
   "cell_type": "markdown",
   "metadata": {},
   "source": [
    "21. (2pt)How do you convert a string to a list in python? Give an example."
   ]
  },
  {
   "cell_type": "code",
   "execution_count": 228,
   "metadata": {},
   "outputs": [
    {
     "name": "stdout",
     "output_type": "stream",
     "text": [
      "['To', 'Kill', 'A', 'Mockingbird']\n"
     ]
    }
   ],
   "source": [
    "# Your answer here: \n",
    "list = title.split()\n",
    "print(list)"
   ]
  },
  {
   "cell_type": "markdown",
   "metadata": {},
   "source": [
    "22. (2pt) How do you convert a string to a tuple in python? Give an example."
   ]
  },
  {
   "cell_type": "code",
   "execution_count": 86,
   "metadata": {},
   "outputs": [
    {
     "name": "stdout",
     "output_type": "stream",
     "text": [
      "('T', 'o', ' ', 'K', 'i', 'l', 'l', ' ', 'A', ' ', 'M', 'o', 'c', 'k', 'i', 'n', 'g', 'b', 'i', 'r', 'd')\n"
     ]
    }
   ],
   "source": [
    "# Your answer here: \n",
    "tuple = tuple(title)\n",
    "print(tuple)"
   ]
  },
  {
   "cell_type": "markdown",
   "metadata": {},
   "source": [
    "23. (2pt) How do you convert a string to an int in python? Give an example."
   ]
  },
  {
   "cell_type": "code",
   "execution_count": 230,
   "metadata": {},
   "outputs": [
    {
     "name": "stdout",
     "output_type": "stream",
     "text": [
      "6898\n"
     ]
    }
   ],
   "source": [
    "# Your answer here: \n",
    "string = 6898.5020\n",
    "\n",
    "int_number = int(string)\n",
    "print(int_number)"
   ]
  },
  {
   "cell_type": "markdown",
   "metadata": {},
   "source": [
    "24. (2pt) How do you convert a string to a float in python? Give an example."
   ]
  },
  {
   "cell_type": "code",
   "execution_count": 232,
   "metadata": {},
   "outputs": [
    {
     "name": "stdout",
     "output_type": "stream",
     "text": [
      "<class 'str'>\n",
      "678.678\n",
      "<class 'float'>\n"
     ]
    }
   ],
   "source": [
    "# Your answer here: \n",
    "string = \"678.678\"\n",
    "print(type(string))\n",
    "float_number = float(string)\n",
    "\n",
    "print(float_number)\n",
    "print(type(float_number))"
   ]
  },
  {
   "cell_type": "markdown",
   "metadata": {},
   "source": [
    "25. (2pt) What are Python's dictionaries? Give an example of a great use for dictionaries.Give an example."
   ]
  },
  {
   "cell_type": "code",
   "execution_count": 7,
   "metadata": {},
   "outputs": [],
   "source": [
    "# Your answer here: "
   ]
  },
  {
   "cell_type": "markdown",
   "metadata": {},
   "source": [
    "26. (2pt) Create a dictionary with keys and values. Give an example."
   ]
  },
  {
   "cell_type": "code",
   "execution_count": 8,
   "metadata": {},
   "outputs": [],
   "source": [
    "# Your answer here: "
   ]
  },
  {
   "cell_type": "markdown",
   "metadata": {},
   "source": [
    "27. (2pt) How do you get all the values from the dictionary? Give an example."
   ]
  },
  {
   "cell_type": "code",
   "execution_count": 9,
   "metadata": {},
   "outputs": [],
   "source": [
    "# Your answer here: "
   ]
  },
  {
   "cell_type": "markdown",
   "metadata": {},
   "source": [
    "28. (2pt) How do you get all the keys from the dictionary? Give an example."
   ]
  },
  {
   "cell_type": "code",
   "execution_count": 10,
   "metadata": {},
   "outputs": [],
   "source": [
    "# Your answer here: "
   ]
  },
  {
   "cell_type": "markdown",
   "metadata": {},
   "source": [
    "29. (2pt) How do you capitalizes first letter of string? Give an example."
   ]
  },
  {
   "cell_type": "code",
   "execution_count": 102,
   "metadata": {},
   "outputs": [
    {
     "name": "stdout",
     "output_type": "stream",
     "text": [
      "Please capitalize first letter of string\n"
     ]
    }
   ],
   "source": [
    "# Your answer here: \n",
    "string = \"please capitalize first letter of string\"\n",
    "cap_string = string.capitalize()\n",
    "\n",
    "print(cap_string)"
   ]
  },
  {
   "cell_type": "markdown",
   "metadata": {},
   "source": [
    "30. (2pt) How do you check in a string that all characters are digits? Give an example."
   ]
  },
  {
   "cell_type": "code",
   "execution_count": 106,
   "metadata": {},
   "outputs": [
    {
     "name": "stdout",
     "output_type": "stream",
     "text": [
      "True\n",
      "False\n"
     ]
    }
   ],
   "source": [
    "# Your answer here: \n",
    "\n",
    "string2 = \"123\"\n",
    "string3 = \"not digits\"\n",
    "\n",
    "print(string2.isdigit())\n",
    "print(string3.isdigit())"
   ]
  },
  {
   "cell_type": "markdown",
   "metadata": {},
   "source": [
    "31. (2pt) How do you check in a string that all characters are alphanumeric? Give an example."
   ]
  },
  {
   "cell_type": "code",
   "execution_count": 112,
   "metadata": {},
   "outputs": [
    {
     "name": "stdout",
     "output_type": "stream",
     "text": [
      "True\n",
      "False\n",
      "True\n"
     ]
    }
   ],
   "source": [
    "# Your answer here: \n",
    "\n",
    "string4 = \"abc123\"\n",
    "\n",
    "print(string2.isalnum())\n",
    "print(string3.isalnum())\n",
    "print(string4.isalnum())"
   ]
  },
  {
   "cell_type": "markdown",
   "metadata": {},
   "source": [
    "32. (2pt) How do you check in a string that all characters are in lowercase? Give an example."
   ]
  },
  {
   "cell_type": "code",
   "execution_count": 114,
   "metadata": {},
   "outputs": [
    {
     "name": "stdout",
     "output_type": "stream",
     "text": [
      "True\n",
      "False\n"
     ]
    }
   ],
   "source": [
    "# Your answer here: \n",
    "\n",
    "print(string4.islower())\n",
    "##from question 20: title = \"To Kill A Mockingbird\"\n",
    "print(title.islower())"
   ]
  },
  {
   "cell_type": "markdown",
   "metadata": {},
   "source": [
    "33. (2pt) How do you check in a string that all characters are not numbers. Give an example."
   ]
  },
  {
   "cell_type": "code",
   "execution_count": 116,
   "metadata": {},
   "outputs": [
    {
     "name": "stdout",
     "output_type": "stream",
     "text": [
      "False\n",
      "True\n"
     ]
    }
   ],
   "source": [
    "# Your answer here: \n",
    "\n",
    "print(not string2.isdigit())\n",
    "print(not string4.isdigit())"
   ]
  },
  {
   "cell_type": "markdown",
   "metadata": {},
   "source": [
    "33. (2pt) How do you get the length of the string? Give an example."
   ]
  },
  {
   "cell_type": "code",
   "execution_count": 124,
   "metadata": {},
   "outputs": [
    {
     "data": {
      "text/plain": [
       "21"
      ]
     },
     "execution_count": 124,
     "metadata": {},
     "output_type": "execute_result"
    }
   ],
   "source": [
    "# Your answer here: \n",
    "len(title)"
   ]
  },
  {
   "cell_type": "markdown",
   "metadata": {},
   "source": [
    "34. (2pt) How do you convert a string to all lowercase? Give an example."
   ]
  },
  {
   "cell_type": "code",
   "execution_count": 130,
   "metadata": {},
   "outputs": [
    {
     "name": "stdout",
     "output_type": "stream",
     "text": [
      "To Kill A Mockingbird\n",
      "to kill a mockingbird\n"
     ]
    }
   ],
   "source": [
    "# Your answer here: \n",
    "\n",
    "print(title)\n",
    "\n",
    "lower_title = title.lower()\n",
    "print(lower_title)"
   ]
  },
  {
   "cell_type": "markdown",
   "metadata": {},
   "source": [
    "35. (2pt) How do you remove all leading whitespace in string? Give an example."
   ]
  },
  {
   "cell_type": "code",
   "execution_count": 136,
   "metadata": {},
   "outputs": [
    {
     "name": "stdout",
     "output_type": "stream",
     "text": [
      "        is there space?\n",
      "is there space?\n"
     ]
    }
   ],
   "source": [
    "# Your answer here: \n",
    "leading_space = \"        is there space?\"\n",
    "print(leading_space)\n",
    "no_leading_space = leading_space.lstrip()\n",
    "print(no_leading_space)"
   ]
  },
  {
   "cell_type": "markdown",
   "metadata": {},
   "source": [
    "36. (2pt) What is the difference between del() and remove() methods of list? Give an example."
   ]
  },
  {
   "cell_type": "code",
   "execution_count": 19,
   "metadata": {},
   "outputs": [],
   "source": [
    "# Your answer here: "
   ]
  },
  {
   "cell_type": "markdown",
   "metadata": {},
   "source": [
    "37. (2pt) How do you get the index of an object in a list? Give an example."
   ]
  },
  {
   "cell_type": "code",
   "execution_count": 20,
   "metadata": {},
   "outputs": [],
   "source": [
    "# Your answer here: "
   ]
  },
  {
   "cell_type": "markdown",
   "metadata": {},
   "source": [
    "38. (2pt) How do you insert an object at given index in a list? Give an example."
   ]
  },
  {
   "cell_type": "code",
   "execution_count": 21,
   "metadata": {},
   "outputs": [],
   "source": [
    "# Your answer here: "
   ]
  },
  {
   "cell_type": "markdown",
   "metadata": {},
   "source": [
    "39. (2pt) How do you get the length of a list? Give an example."
   ]
  },
  {
   "cell_type": "code",
   "execution_count": 22,
   "metadata": {},
   "outputs": [],
   "source": [
    "# Your answer here: "
   ]
  },
  {
   "cell_type": "markdown",
   "metadata": {},
   "source": [
    "40. (2pt) How do you remove last object from a list?"
   ]
  },
  {
   "cell_type": "code",
   "execution_count": 23,
   "metadata": {},
   "outputs": [],
   "source": [
    "# Your answer here: "
   ]
  },
  {
   "cell_type": "markdown",
   "metadata": {},
   "source": [
    "41. (2pt) How do you reverse a list? Give an example."
   ]
  },
  {
   "cell_type": "code",
   "execution_count": 24,
   "metadata": {},
   "outputs": [],
   "source": [
    "# Your answer here: "
   ]
  },
  {
   "cell_type": "markdown",
   "metadata": {},
   "source": [
    "42. (2pt) How would you slice a list? Give an example."
   ]
  },
  {
   "cell_type": "code",
   "execution_count": 28,
   "metadata": {},
   "outputs": [],
   "source": [
    "# Your answer here: "
   ]
  },
  {
   "cell_type": "markdown",
   "metadata": {},
   "source": [
    "43. (10 pts) Iterate through a list and create a new list with only happy words. A happy is anything above the threshold. Print your happy word list without values (just words)."
   ]
  },
  {
   "cell_type": "code",
   "execution_count": 30,
   "metadata": {},
   "outputs": [],
   "source": [
    "threshold = 0.5\n",
    "feelings = [('blue', 0.1), ('melancholy',0.4), ('fine', 0.5 ), ('okay',0.5), ('overjoyed',1.0), ('blissful',0.9), ('chocolately',0.8)]\n",
    "# your code here:\n"
   ]
  },
  {
   "cell_type": "markdown",
   "metadata": {},
   "source": [
    "44. (5 pts) Take a user input that takes in a user's name, age.\n",
    "Create an f string that prints \"Hello \"name\", how does it feel to be \"age?\"\n",
    "Then create an answer that takes a random choice from your happy_word list, and print \"Gee, it feels \"answer\" to be \"age\". Thanks for asking!\"\n",
    "\n"
   ]
  },
  {
   "cell_type": "code",
   "execution_count": 32,
   "metadata": {
    "scrolled": true
   },
   "outputs": [],
   "source": [
    "# Your code here:"
   ]
  },
  {
   "cell_type": "markdown",
   "metadata": {},
   "source": [
    "45. (5 pts) Convert the following quote to a single string assigned to the variable Brzezinski, without numbers or special characters. Print the output. Make sure you add quotation marks to the beginning and end of the quote.\n"
   ]
  },
  {
   "cell_type": "code",
   "execution_count": 39,
   "metadata": {},
   "outputs": [],
   "source": [
    "quote = [[('Most Americans ^331 are close to total ignorance about the world. They are ignorant. That is an unhealthy condition in a country in which foreign policy has to be endorsed by the people 402 if it is to be pursued. And 404 it makes it much more difficult for any president to pursue an intelligent %%&* policy that does justice to the complexity of the world.')]]\n",
    "\n",
    "# Your code here:"
   ]
  },
  {
   "cell_type": "markdown",
   "metadata": {},
   "source": [
    "46. (1pts) There is a wikipedia package for Python! It makes it super easy to collect and parse entries. Install it and print a summary of the Marquis de Lafayette in French."
   ]
  },
  {
   "cell_type": "code",
   "execution_count": 35,
   "metadata": {},
   "outputs": [],
   "source": [
    "# Your code here:"
   ]
  },
  {
   "cell_type": "markdown",
   "metadata": {},
   "source": [
    "47. (4pts) Write a function that takes two arguments, name and hometown  and prints a statement that says, \"Well hello 'name', you must be from 'hometown' as an f string when called."
   ]
  },
  {
   "cell_type": "code",
   "execution_count": 36,
   "metadata": {},
   "outputs": [],
   "source": [
    "#Your code here:"
   ]
  },
  {
   "cell_type": "code",
   "execution_count": 140,
   "metadata": {},
   "outputs": [
    {
     "ename": "SyntaxError",
     "evalue": "invalid syntax (1814196179.py, line 1)",
     "output_type": "error",
     "traceback": [
      "\u001b[0;36m  Cell \u001b[0;32mIn[140], line 1\u001b[0;36m\u001b[0m\n\u001b[0;31m    48. Write a script that takes an age as a user input and prints the following, based on conditions, using if, elif, and else:\u001b[0m\n\u001b[0m        ^\u001b[0m\n\u001b[0;31mSyntaxError\u001b[0m\u001b[0;31m:\u001b[0m invalid syntax\n"
     ]
    }
   ],
   "source": [
    "48. Write a script that takes an age as a user input and prints the following, based on conditions, using if, elif, and else:\n",
    "\n",
    "If the age is 1-18: print \"This individual is a minor. Their brain is still growing.\"\n",
    "If the age is 19-25: print. \"Though the brain may be done growing in size, it does not finish developing and maturing until the mid- to late 20s\"\n",
    "If the age is 26-40: \"Accomplish what you can before your brain rots!\"\n",
    "If the age is 41-100: \"Don't despair! For the first time, researchers have been able to identify superagers MRI images of the brains of superagers with an average age of 67 are remarkably similar to the brain of 25-year-olds.\"\n"
   ]
  },
  {
   "cell_type": "code",
   "execution_count": 234,
   "metadata": {},
   "outputs": [
    {
     "name": "stdin",
     "output_type": "stream",
     "text": [
      "Please input your age:  88\n"
     ]
    },
    {
     "name": "stdout",
     "output_type": "stream",
     "text": [
      "Don't despair! For the first time, researchers have been able to identify superagers MRI images of the brains of superagers with an average age of 67 are remarkably similar to the brain of 25-year-olds.\n"
     ]
    }
   ],
   "source": [
    "#Your code here:\n",
    "\n",
    "age = int(input(\"Please input your age: \"))\n",
    "\n",
    "if age<=18:\n",
    "    print(\"This individual is a minior. Their brain is still growing.\")\n",
    "\n",
    "elif 19 <= age <=25:\n",
    "    print(\"Though the brain may be done growing in size, it does not finish developoing and maturing until the mid= to late 20 20s\")\n",
    "\n",
    "elif 26 <= age <= 40:\n",
    "    print(\"Accomplish what you can before your brain rots!\")\n",
    "\n",
    "else:\n",
    "    print(\"Don't despair! For the first time, researchers have been able to identify superagers MRI images of the brains of superagers with an average age of 67 are remarkably similar to the brain of 25-year-olds.\")\n",
    "    \n",
    "\n",
    "\n"
   ]
  },
  {
   "cell_type": "code",
   "execution_count": null,
   "metadata": {},
   "outputs": [],
   "source": [
    "49.Write a while loop that counts down from 20 to \"blastoff\":\n",
    "\n",
    "hint: decrement each time using n = n -1 or using -=\n",
    "n = 20"
   ]
  },
  {
   "cell_type": "code",
   "execution_count": 236,
   "metadata": {},
   "outputs": [
    {
     "name": "stdout",
     "output_type": "stream",
     "text": [
      "20\n",
      "19\n",
      "18\n",
      "17\n",
      "16\n",
      "15\n",
      "14\n",
      "13\n",
      "12\n",
      "11\n",
      "10\n",
      "9\n",
      "8\n",
      "7\n",
      "6\n",
      "5\n",
      "4\n",
      "3\n",
      "2\n",
      "1\n",
      "blastoff\n"
     ]
    }
   ],
   "source": [
    "#Your code here:\n",
    "\n",
    "for n in range(20,0,-1):\n",
    "    print (n)\n",
    "\n",
    "print(\"blastoff\")"
   ]
  },
  {
   "cell_type": "code",
   "execution_count": 238,
   "metadata": {},
   "outputs": [
    {
     "name": "stdout",
     "output_type": "stream",
     "text": [
      "Jackson Python\n"
     ]
    }
   ],
   "source": [
    "50.#Write code, usting the strip method, to remove the unecessary characters, and add a space to print Jackson Python\n",
    "\n",
    "jackson_string = \"grrrrr....ughhhh..JacksonPython@@@!!!!\"\n",
    "\n",
    "edited_string = jackson_string.strip(\"gr.ugh@!\")\n",
    "\n",
    "len_Jackson = len(\"Jackson\")\n",
    "\n",
    "string_with_space = edited_string[:len_Jackson] + \" \" + edited_string[len_Jackson:]\n",
    "\n",
    "print(string_with_space)"
   ]
  },
  {
   "cell_type": "code",
   "execution_count": 7,
   "metadata": {},
   "outputs": [
    {
     "data": {
      "text/plain": [
       "'/Users/ck_mac_pro/Downloads'"
      ]
     },
     "execution_count": 7,
     "metadata": {},
     "output_type": "execute_result"
    }
   ],
   "source": []
  }
 ],
 "metadata": {
  "kernelspec": {
   "display_name": "Python 3 (ipykernel)",
   "language": "python",
   "name": "python3"
  },
  "language_info": {
   "codemirror_mode": {
    "name": "ipython",
    "version": 3
   },
   "file_extension": ".py",
   "mimetype": "text/x-python",
   "name": "python",
   "nbconvert_exporter": "python",
   "pygments_lexer": "ipython3",
   "version": "3.12.4"
  }
 },
 "nbformat": 4,
 "nbformat_minor": 4
}
